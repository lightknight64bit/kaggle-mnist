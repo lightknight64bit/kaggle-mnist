{
 "metadata": {
  "language_info": {
   "codemirror_mode": {
    "name": "ipython",
    "version": 3
   },
   "file_extension": ".py",
   "mimetype": "text/x-python",
   "name": "python",
   "nbconvert_exporter": "python",
   "pygments_lexer": "ipython3",
   "version": "3.6.7"
  },
  "orig_nbformat": 4,
  "kernelspec": {
   "name": "python3",
   "display_name": "Python 3.6.7 64-bit"
  },
  "interpreter": {
   "hash": "cc313781c8b16b1a20b25b0369e14de97ee7f97b5a7f722f22de07301d7c790b"
  }
 },
 "nbformat": 4,
 "nbformat_minor": 2,
 "cells": [
  {
   "cell_type": "code",
   "execution_count": 1,
   "metadata": {},
   "outputs": [],
   "source": [
    "import tensorflow as tf \n",
    "from tensorflow import keras \n",
    "from tensorflow.keras.layers import Dense, Conv2D, Dropout, MaxPool2D,Flatten , BatchNormalization\n",
    "from tensorflow.keras.models import Sequential\n",
    "import pandas as pd \n",
    "import numpy as np"
   ]
  },
  {
   "cell_type": "code",
   "execution_count": 2,
   "metadata": {},
   "outputs": [],
   "source": [
    "train = pd.read_csv(\"train.csv\")\n",
    "test = pd.read_csv(\"test.csv\")"
   ]
  },
  {
   "cell_type": "code",
   "execution_count": 3,
   "metadata": {},
   "outputs": [],
   "source": [
    "x_train = train.drop([\"label\"], axis=1) \n",
    "y_train = train[\"label\"].values"
   ]
  },
  {
   "cell_type": "code",
   "execution_count": 4,
   "metadata": {},
   "outputs": [],
   "source": [
    "x_train = (x_train.astype(\"float32\")/255.0).to_numpy().reshape(-1, 28,28, 1)\n",
    "test = (test.astype(\"float32\")/255.0).to_numpy().reshape(-1,28,28,1)"
   ]
  },
  {
   "cell_type": "code",
   "execution_count": 5,
   "metadata": {},
   "outputs": [],
   "source": [
    "y_train = keras.utils.to_categorical(y_train)"
   ]
  },
  {
   "cell_type": "code",
   "execution_count": 6,
   "metadata": {},
   "outputs": [],
   "source": [
    "\n",
    "model = Sequential()\n",
    "\n",
    "model.add(Conv2D(filters = 64, kernel_size = (5,5),padding = 'Same', activation ='relu', input_shape = (28,28,1)))\n",
    "model.add(BatchNormalization())\n",
    "\n",
    "model.add(Conv2D(filters = 64, kernel_size = (5,5),padding = 'Same', activation ='relu'))\n",
    "model.add(BatchNormalization())\n",
    "\n",
    "model.add(MaxPool2D(pool_size=(2,2)))\n",
    "model.add(Dropout(0.25))\n",
    "\n",
    "model.add(Conv2D(filters = 64, kernel_size = (3,3),padding = 'Same', activation ='relu'))\n",
    "model.add(BatchNormalization())\n",
    "\n",
    "model.add(Conv2D(filters = 64, kernel_size = (3,3),padding = 'Same', activation ='relu'))\n",
    "model.add(BatchNormalization())\n",
    "model.add(MaxPool2D(pool_size=(2,2), strides=(2,2)))\n",
    "model.add(Dropout(0.25))\n",
    "\n",
    "model.add(Conv2D(filters = 64, kernel_size = (3,3), padding = 'Same',  activation ='relu'))\n",
    "model.add(BatchNormalization())\n",
    "model.add(Dropout(0.25))\n",
    "\n",
    "model.add(Flatten())\n",
    "model.add(Dense(256, activation = \"relu\"))\n",
    "model.add(BatchNormalization())\n",
    "model.add(Dropout(0.25))\n",
    "\n",
    "model.add(Dense(10, activation = \"softmax\"))"
   ]
  },
  {
   "cell_type": "code",
   "execution_count": 10,
   "metadata": {},
   "outputs": [],
   "source": [
    "optim = keras.optimizers.RMSprop(lr = 0.001, rho = 0.9, epsilon = 1e-08, decay=0.0)\n",
    "model.compile(optimizer = optim, loss = 'categorical_crossentropy', metrics=['accuracy'])"
   ]
  },
  {
   "cell_type": "code",
   "execution_count": 11,
   "metadata": {},
   "outputs": [
    {
     "output_type": "stream",
     "name": "stdout",
     "text": [
      "Model: \"sequential\"\n_________________________________________________________________\nLayer (type)                 Output Shape              Param #   \n=================================================================\nconv2d (Conv2D)              (None, 28, 28, 64)        1664      \n_________________________________________________________________\nbatch_normalization (BatchNo (None, 28, 28, 64)        256       \n_________________________________________________________________\nconv2d_1 (Conv2D)            (None, 28, 28, 64)        102464    \n_________________________________________________________________\nbatch_normalization_1 (Batch (None, 28, 28, 64)        256       \n_________________________________________________________________\nmax_pooling2d (MaxPooling2D) (None, 14, 14, 64)        0         \n_________________________________________________________________\ndropout (Dropout)            (None, 14, 14, 64)        0         \n_________________________________________________________________\nconv2d_2 (Conv2D)            (None, 14, 14, 64)        36928     \n_________________________________________________________________\nbatch_normalization_2 (Batch (None, 14, 14, 64)        256       \n_________________________________________________________________\nconv2d_3 (Conv2D)            (None, 14, 14, 64)        36928     \n_________________________________________________________________\nbatch_normalization_3 (Batch (None, 14, 14, 64)        256       \n_________________________________________________________________\nmax_pooling2d_1 (MaxPooling2 (None, 7, 7, 64)          0         \n_________________________________________________________________\ndropout_1 (Dropout)          (None, 7, 7, 64)          0         \n_________________________________________________________________\nconv2d_4 (Conv2D)            (None, 7, 7, 64)          36928     \n_________________________________________________________________\nbatch_normalization_4 (Batch (None, 7, 7, 64)          256       \n_________________________________________________________________\ndropout_2 (Dropout)          (None, 7, 7, 64)          0         \n_________________________________________________________________\nflatten (Flatten)            (None, 3136)              0         \n_________________________________________________________________\ndense (Dense)                (None, 256)               803072    \n_________________________________________________________________\nbatch_normalization_5 (Batch (None, 256)               1024      \n_________________________________________________________________\ndropout_3 (Dropout)          (None, 256)               0         \n_________________________________________________________________\ndense_1 (Dense)              (None, 10)                2570      \n=================================================================\nTotal params: 1,022,858\nTrainable params: 1,021,706\nNon-trainable params: 1,152\n_________________________________________________________________\n"
     ]
    }
   ],
   "source": [
    "model.summary()"
   ]
  },
  {
   "cell_type": "code",
   "execution_count": 12,
   "metadata": {},
   "outputs": [
    {
     "output_type": "stream",
     "name": "stdout",
     "text": [
      "Train on 42000 samples\n",
      "Epoch 1/21\n",
      "42000/42000 [==============================] - 22s 520us/sample - loss: 0.1026 - accuracy: 0.9685\n",
      "Epoch 2/21\n",
      "42000/42000 [==============================] - 21s 494us/sample - loss: 0.0518 - accuracy: 0.9839\n",
      "Epoch 3/21\n",
      "42000/42000 [==============================] - 21s 496us/sample - loss: 0.0408 - accuracy: 0.9880\n",
      "Epoch 4/21\n",
      "42000/42000 [==============================] - 21s 510us/sample - loss: 0.0338 - accuracy: 0.9902\n",
      "Epoch 5/21\n",
      "42000/42000 [==============================] - 23s 539us/sample - loss: 0.0279 - accuracy: 0.9920\n",
      "Epoch 6/21\n",
      "42000/42000 [==============================] - 23s 544us/sample - loss: 0.0262 - accuracy: 0.9924\n",
      "Epoch 7/21\n",
      "42000/42000 [==============================] - 21s 507us/sample - loss: 0.0236 - accuracy: 0.9930\n",
      "Epoch 8/21\n",
      "42000/42000 [==============================] - 22s 518us/sample - loss: 0.0231 - accuracy: 0.9933\n",
      "Epoch 9/21\n",
      "42000/42000 [==============================] - 21s 501us/sample - loss: 0.0215 - accuracy: 0.9939\n",
      "Epoch 10/21\n",
      "42000/42000 [==============================] - 23s 541us/sample - loss: 0.0185 - accuracy: 0.9947\n",
      "Epoch 11/21\n",
      "42000/42000 [==============================] - 24s 562us/sample - loss: 0.0166 - accuracy: 0.9953\n",
      "Epoch 12/21\n",
      "42000/42000 [==============================] - 23s 539us/sample - loss: 0.0168 - accuracy: 0.9956\n",
      "Epoch 13/21\n",
      "42000/42000 [==============================] - 22s 522us/sample - loss: 0.0145 - accuracy: 0.9957\n",
      "Epoch 14/21\n",
      "42000/42000 [==============================] - 21s 506us/sample - loss: 0.0157 - accuracy: 0.9958\n",
      "Epoch 15/21\n",
      "42000/42000 [==============================] - 21s 510us/sample - loss: 0.0143 - accuracy: 0.9961\n",
      "Epoch 16/21\n",
      "42000/42000 [==============================] - 21s 505us/sample - loss: 0.0145 - accuracy: 0.9959\n",
      "Epoch 17/21\n",
      "42000/42000 [==============================] - 21s 507us/sample - loss: 0.0113 - accuracy: 0.9969\n",
      "Epoch 18/21\n",
      "42000/42000 [==============================] - 21s 504us/sample - loss: 0.0132 - accuracy: 0.9962\n",
      "Epoch 19/21\n",
      "42000/42000 [==============================] - 21s 505us/sample - loss: 0.0115 - accuracy: 0.9968\n",
      "Epoch 20/21\n",
      "42000/42000 [==============================] - 21s 496us/sample - loss: 0.0111 - accuracy: 0.9970\n",
      "Epoch 21/21\n",
      "42000/42000 [==============================] - 21s 504us/sample - loss: 0.0096 - accuracy: 0.9971\n"
     ]
    },
    {
     "output_type": "execute_result",
     "data": {
      "text/plain": [
       "<tensorflow.python.keras.callbacks.History at 0x1f892708e80>"
      ]
     },
     "metadata": {},
     "execution_count": 12
    }
   ],
   "source": [
    "model.fit(x_train,y_train, epochs=21)"
   ]
  },
  {
   "cell_type": "code",
   "execution_count": 13,
   "metadata": {},
   "outputs": [],
   "source": [
    "preds = model.predict(test)\n",
    "submission = np.argmax(preds, axis=1)\n",
    "submission = pd.DataFrame({\"ImageId\": range(1, 28001), \"Label\":submission})"
   ]
  },
  {
   "cell_type": "code",
   "execution_count": 14,
   "metadata": {},
   "outputs": [],
   "source": [
    "submission.to_csv(\"submission-keras.csv\", index=False)"
   ]
  },
  {
   "cell_type": "code",
   "execution_count": null,
   "metadata": {},
   "outputs": [],
   "source": []
  }
 ]
}